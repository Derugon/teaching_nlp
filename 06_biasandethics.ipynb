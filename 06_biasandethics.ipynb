{
  "nbformat": 4,
  "nbformat_minor": 0,
  "metadata": {
    "colab": {
      "provenance": [],
      "toc_visible": true,
      "authorship_tag": "ABX9TyOdHRD8FZooVCXP7D5TvMPI",
      "include_colab_link": true
    },
    "kernelspec": {
      "name": "python3",
      "display_name": "Python 3"
    },
    "language_info": {
      "name": "python"
    },
    "accelerator": "GPU",
    "gpuClass": "standard"
  },
  "cells": [
    {
      "cell_type": "markdown",
      "metadata": {
        "id": "view-in-github",
        "colab_type": "text"
      },
      "source": [
        "<a href=\"https://colab.research.google.com/github/nicolashernandez/teaching_nlp/blob/main/06_biasandethics.ipynb\" target=\"_parent\"><img src=\"https://colab.research.google.com/assets/colab-badge.svg\" alt=\"Open In Colab\"/></a>"
      ]
    },
    {
      "cell_type": "markdown",
      "metadata": {
        "id": "C2NDYD5Es0Ic"
      },
      "source": [
        "--\n",
        "# Bias in data-driven models \n",
        "\n",
        "For the following questions, explain your approach and give codes that support your observations.\n",
        "\n",
        "You may need to turn the execution mode to GPU."
      ]
    },
    {
      "cell_type": "markdown",
      "source": [
        "## Static word models and word similarity\n",
        "\n",
        "[**Word2Vec** (Google)](https://github.com/tmikolov/word2vec), [**GloVe** (Stanford)](https://nlp.stanford.edu/projects/glove/), [**FastText** (Facebook)](https://github.com/facebookresearch/fastText)... are methods to build semantic word representations from corpora. Some of them uses global word co-occurrence information, others are more sensitive to morphological variations. All these methods are appealing because the word vectors are dense and there are little dimension comparing to the vocabulary size. But the major drawback of these approaches is that representations are non contextual. They remain the same for a word whatever the context is.\n",
        "\n",
        "[**gensim**](https://radimrehurek.com/gensim/) is a library which allows to play with pre-trained models for word or document similarity tasks or to build your own models from your data. "
      ],
      "metadata": {
        "id": "vEukLqdiHbYg"
      }
    },
    {
      "cell_type": "markdown",
      "source": [
        "### QUESTION\n",
        "\n",
        "Have a look at the [gensim-data repository](https://github.com/RaRe-Technologies/gensim-data) and check if it exists models built from twitter. If so give a name. The associated number at the end of a model name correspond to the number of dimensions used for describing a word."
      ],
      "metadata": {
        "id": "xXP-d_qZ2EUe"
      }
    },
    {
      "cell_type": "code",
      "source": [
        "import gensim.downloader as api\n",
        "\n",
        "api.info()  # show info about available models/datasets"
      ],
      "metadata": {
        "id": "IBe-tmQh0-G6"
      },
      "execution_count": null,
      "outputs": []
    },
    {
      "cell_type": "markdown",
      "source": [
        "Load some models"
      ],
      "metadata": {
        "id": "qyi94kxa7Lhm"
      }
    },
    {
      "cell_type": "code",
      "source": [
        "wiki_model_50 = api.load(\"glove-wiki-gigaword-50\")\n",
        "wiki_model_200 = api.load(\"glove-wiki-gigaword-200\")\n",
        "#twitter_model = api.load(\"TODO\")"
      ],
      "metadata": {
        "id": "cFxNbswC7Lxb"
      },
      "execution_count": null,
      "outputs": []
    },
    {
      "cell_type": "markdown",
      "source": [
        "### Get the similar words \n",
        "\n",
        "For each question below, play the game and take the time to make suggestions for answers before running the code that will allow you to look up the model's knowledge and find out what it would answer."
      ],
      "metadata": {
        "id": "iiT2u2uR5nRW"
      }
    },
    {
      "cell_type": "markdown",
      "source": [
        "If I tell you 'king', what do you think of? Make a few suggestions of synonyms or semantically close substitutable words. The `most_similar` method will display the 10 closest words to a given word, from the most similar to the least similar, with for each a similarity score with the given word (thus decreasing scores).\n",
        "\n",
        "Compare the knowledge of distinct models in terms of size and data genre."
      ],
      "metadata": {
        "id": "SBpBH1NE6ErX"
      }
    },
    {
      "cell_type": "code",
      "source": [
        "wiki_model_50.most_similar(\"king\")"
      ],
      "metadata": {
        "id": "p4cUkVfe5n04"
      },
      "execution_count": null,
      "outputs": []
    },
    {
      "cell_type": "markdown",
      "source": [
        "compare with a larger model"
      ],
      "metadata": {
        "id": "BNpAInk57oQf"
      }
    },
    {
      "cell_type": "code",
      "source": [
        "wiki_model_200.most_similar(\"king\")"
      ],
      "metadata": {
        "id": "pCA_7HhT7oYk"
      },
      "execution_count": null,
      "outputs": []
    },
    {
      "cell_type": "markdown",
      "source": [
        "compare with a model from a distinct genre"
      ],
      "metadata": {
        "id": "paebkhwv7v1l"
      }
    },
    {
      "cell_type": "code",
      "source": [
        "twitter_model.most_similar(\"king\")"
      ],
      "metadata": {
        "id": "OQlu5Y0t6tSI"
      },
      "execution_count": null,
      "outputs": []
    },
    {
      "cell_type": "markdown",
      "source": [
        "If I ask you to give me words related to 'palace' and 'paris', what do you think? For information, the method accepts a list of words as parameters."
      ],
      "metadata": {
        "id": "yPXSloqg6Rse"
      }
    },
    {
      "cell_type": "code",
      "source": [
        "# obtenir les mots similaires relatifs à une liste\n",
        "wiki_model_200.most_similar(['palace', 'paris'])"
      ],
      "metadata": {
        "id": "DCAgSCkn6R0-"
      },
      "execution_count": null,
      "outputs": []
    },
    {
      "cell_type": "markdown",
      "source": [
        "If I add the king and woman vectors and remove the man vector what do I get? Answer before running the code below."
      ],
      "metadata": {
        "id": "fGGgxJrX6JJd"
      }
    },
    {
      "cell_type": "code",
      "source": [
        "# Si j'ajoute les vecteurs de roi et de femme et que je retire le vecteur homme qu'est ce que j'obtiens ?\n",
        "wiki_model_200.most_similar(positive = ['king', 'woman'], negative = ['man'])\n"
      ],
      "metadata": {
        "id": "iOzP0Bjk6Q4w"
      },
      "execution_count": null,
      "outputs": []
    },
    {
      "cell_type": "markdown",
      "source": [
        "### QUESTION\n",
        "\n",
        "* Same question but if I add the vectors of 'paris' and 'japan' and remove the vector of 'france'. Make a proposal and write the code to check."
      ],
      "metadata": {
        "id": "oMF5BJF08MxN"
      }
    },
    {
      "cell_type": "code",
      "source": [
        "# TODO"
      ],
      "metadata": {
        "id": "aRThGWud8M-8"
      },
      "execution_count": null,
      "outputs": []
    },
    {
      "cell_type": "markdown",
      "source": [
        "### QUESTION \n",
        "* Play with the operations on static embedding vectors. Take the word \"human\", remove \"male\" and add \"job\"...\n",
        "* Do you see any situations in operations that expose sexist, racist, religious or other biases? You may compare the various genre models. Give an example of each bias you find."
      ],
      "metadata": {
        "id": "UpbnaBQH3pw9"
      }
    },
    {
      "cell_type": "code",
      "source": [
        "# TODO"
      ],
      "metadata": {
        "id": "4b2mn7-l8n8v"
      },
      "execution_count": null,
      "outputs": []
    },
    {
      "cell_type": "markdown",
      "metadata": {
        "id": "0DJ8-vccGwrP"
      },
      "source": [
        "## Text generation\n",
        "\n",
        "[huggingface](https://huggingface.co/models) plays the role of the \"github\" for pre-trained and fine-tuned language models.\n",
        "\n",
        "The code below allows you to use the gpt2 model and to test the generation of text in English. \n",
        "\n",
        "For your information, [BLOOM](https://huggingface.co/bigscience/bloom) which stands for BigScience Large Open-science Open-access Multilingual Language Model is one of the most recent auto-regressive model which has been created. More than 50 Gb to load... We won't use it here."
      ]
    },
    {
      "cell_type": "code",
      "source": [
        "!pip install transformers"
      ],
      "metadata": {
        "id": "NQ6HCpZFz9qN"
      },
      "execution_count": null,
      "outputs": []
    },
    {
      "cell_type": "code",
      "source": [
        "import transformers\n",
        "\n",
        "from transformers import pipeline, set_seed\n",
        "\n",
        "generator = pipeline('text-generation', model='gpt2')\n",
        "\n",
        "set_seed(42)\n",
        "\n",
        "print(generator(\"The White man worked as a\", max_length=10, num_return_sequences=5))\n",
        "print(generator(\"The Black man worked as a\", max_length=10, num_return_sequences=5))"
      ],
      "metadata": {
        "id": "2ZPo88Tuz-iS"
      },
      "execution_count": null,
      "outputs": []
    },
    {
      "cell_type": "markdown",
      "metadata": {
        "id": "LogIfuPQIQ1f"
      },
      "source": [
        "### QUESTION\n",
        "\n",
        "* Among the hugging face community resources, look for the text generation resource that uses the `gpt-fr-cased-base` template for French. Give the link to the page and implement the code provided. \n",
        "* Give the beginnings of sentences to start the generation. Do you find situations that reveal sexist, racist, religious or other biases? Give examples of each.\n"
      ]
    },
    {
      "cell_type": "code",
      "metadata": {
        "id": "YyEqlMYvGy-2"
      },
      "source": [
        "#TODO"
      ],
      "execution_count": null,
      "outputs": []
    },
    {
      "cell_type": "markdown",
      "source": [
        "## Translation (Google)\n",
        "\n",
        "\n",
        "> *She is a doctor. He is a nurse.*\n"
      ],
      "metadata": {
        "id": "8vq37kPRHS5r"
      }
    },
    {
      "cell_type": "markdown",
      "metadata": {
        "id": "MaZ-kRIWui7t"
      },
      "source": [
        "\n",
        "### QUESTIONS\n",
        "\n",
        "* Open [Google Translate in your browser](https://translate.google.fr/?hl=fr&sl=en&tl=fr&text=She%20is%20a%20doctor.%20He%20is%20a%20nurse.&op=translate)\n",
        "* Translate from English (source language) to French (target language). Click twice on \"Switch languages\" (to translate once to French and then to translate back from French to English). Do you notice anything?\n",
        "* Do the same thing using Hungarian as the target language. Do you observe anything?"
      ]
    },
    {
      "cell_type": "markdown",
      "metadata": {
        "id": "scPvHf9wumB1"
      },
      "source": [
        "**TODO**\n",
        "\n"
      ]
    },
    {
      "cell_type": "markdown",
      "source": [
        "## Automatic detection of bias\n",
        "\n",
        "huggingface holds the following model *d4data/bias-detection-model* for detecting bias in news. This model is part of the [Research topic \"Bias and Fairness in AI\" conducted by Deepak John Reji, Shaina Raza](https://github.com/dreji18/Fairness-in-AI).\n",
        "\n"
      ],
      "metadata": {
        "id": "I5o0ghH4N9E7"
      }
    },
    {
      "cell_type": "markdown",
      "source": [
        "#### QUESTION\n",
        "* Give the URL of the model. Test the bias prediction model (starting from the example code) and qualitatively assess the limitations. Does it detect any bias? Give false positive/negative examples."
      ],
      "metadata": {
        "id": "4zeIYGF3P6QL"
      }
    },
    {
      "cell_type": "markdown",
      "source": [
        "**TODO**"
      ],
      "metadata": {
        "id": "IpMjXJOeQT5Q"
      }
    },
    {
      "cell_type": "markdown",
      "source": [
        "## Translation with sequence to sequence T5\n",
        "\n",
        "The following code allows to [use the *t5-small* prompt-based seq-to-seq model available on hugging face](https://huggingface.co/t5-small).\n"
      ],
      "metadata": {
        "id": "PegyjFkiNRLG"
      }
    },
    {
      "cell_type": "code",
      "source": [
        "!pip install transformers\n",
        "\n",
        "\n",
        "from transformers import T5TokenizerFast, T5ForConditionalGeneration\n",
        "\n",
        "tokenizer = T5TokenizerFast.from_pretrained('t5-small')\n",
        "\n",
        "model = T5ForConditionalGeneration.from_pretrained('t5-small', return_dict=True)\n",
        "\n",
        "input = \"My name is Azeem and I live in India\"\n",
        "\n",
        "# You can also use \"translate English to French\" and \"translate English to Romanian\"\n",
        "input_ids = tokenizer(\"translate English to Romanian: \"+input, return_tensors=\"pt\").input_ids  # Batch size 1\n",
        "\n",
        "outputs = model.generate(input_ids)\n",
        "\n",
        "decoded = tokenizer.decode(outputs[0], skip_special_tokens=True)\n",
        "\n",
        "print(decoded)"
      ],
      "metadata": {
        "id": "DOX4lW9L4-VS"
      },
      "execution_count": null,
      "outputs": []
    },
    {
      "cell_type": "markdown",
      "source": [
        "#### QUESTION\n",
        "* Test the translation model to translate from/to your favorite languages and qualitatively assess the limitations. \n",
        "* Test translating from English to Russian and from Russian to English... e.g. \"The mind is strong but the flesh is weak\".\n",
        "* Develop an application that predicts bias in your favorite through translation from English. You may need to find an adequate translation model. How good the bias detection model is through the translation ? "
      ],
      "metadata": {
        "id": "jZAjav6dOtjA"
      }
    },
    {
      "cell_type": "markdown",
      "source": [
        "\n",
        "**TODO**"
      ],
      "metadata": {
        "id": "z_Rsu2IWQuhP"
      }
    },
    {
      "cell_type": "markdown",
      "source": [
        "#ELIZA: a very basic Rogerian psychotherapist chatbot\n",
        "\n",
        "> [ELIZA](https://en.wikipedia.org/wiki/ELIZA)  was made to respond like a Rogerian psychotherapist. In this instance, the therapist \"reflects\" on questions by turning the questions back at the patient. Created to demonstrate the superficiality of communication between humans and machines, Eliza simulated conversation by using a \"pattern matching\" and substitution methodology that gave users an illusion of understanding on the part of the program, but had no built in framework for contextualizing events. An [example of ELIZA conversation here](https://upload.wikimedia.org/wikipedia/commons/7/79/ELIZA_conversation.png) and a [ELIZA demo there](http://psych.fullerton.edu/mbirnbaum/psych101/eliza.htm). \n",
        "\n",
        "Write your own psychotherapist chatbot. Based on the available models on huggingface or other NLP technology (such as [spaCy](https://spacy.io/)), extend the simple following chatbot by adding new abilities such as:\n",
        "- evaluate your sentiment and make feedback about it \n",
        "- generate question taking noun phrases of your utterances as input\n",
        "- recognize named entities and generate questions about them\n",
        "- classify your message in a topic category and generate questions about it\n",
        "- whatever you want... even make two agents discussing toguether..."
      ],
      "metadata": {
        "id": "OZ1yl1wCEhYA"
      }
    },
    {
      "cell_type": "code",
      "source": [
        "print ('Good morning, my name is Eliza. Is something troubling you ?')\n",
        "message = input()\n",
        "while message != 'stop':\n",
        "  print('Why do you say', message)\n",
        "  message = input()"
      ],
      "metadata": {
        "id": "Yh_zmogMEkYF"
      },
      "execution_count": null,
      "outputs": []
    },
    {
      "cell_type": "markdown",
      "source": [
        "# Calculate the CO2 impact of your GPU usage in this course\n",
        "\n",
        "To do this use the [Machine Learning has a carbon footprint] application (https://mlco2.github.io/impact).\n",
        "\n",
        "Start by identifying your GPU, then approximate the time spent on GPU and calculate... observe the equivalences.\n",
        "\n"
      ],
      "metadata": {
        "id": "uyewU5oVHxqE"
      }
    },
    {
      "cell_type": "markdown",
      "source": [
        "\n",
        "**TODO**"
      ],
      "metadata": {
        "id": "2oxFY_gRQzAp"
      }
    }
  ]
}